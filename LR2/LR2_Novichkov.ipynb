{
 "cells": [
  {
   "cell_type": "code",
   "execution_count": 1,
   "metadata": {
    "id": "ESYYi8UMvyIH"
   },
   "outputs": [],
   "source": [
    "import pyspark\n",
    "import os\n",
    "\n",
    "from datetime import datetime\n",
    "from pyspark.sql.functions import col\n",
    "from pyspark.sql import SparkSession\n",
    "from pyspark import SparkContext, SparkConf\n",
    "from pyspark.sql.types import StructType, StructField, StringType, DateType"
   ]
  },
  {
   "cell_type": "code",
   "execution_count": 2,
   "metadata": {
    "id": "r583Ho80zhDD"
   },
   "outputs": [
    {
     "name": "stderr",
     "output_type": "stream",
     "text": [
      "/usr/local/lib/python3.6/dist-packages/pyspark/context.py:238: FutureWarning: Python 3.6 support is deprecated in Spark 3.2.\n",
      "  FutureWarning\n"
     ]
    }
   ],
   "source": [
    "os.environ['PYSPARK_SUBMIT_ARGS'] = '--packages com.databricks:spark-xml_2.12:0.13.0 pyspark-shell'\n",
    "\n",
    "app_name = \"lab2\"\n",
    "\n",
    "sc = SparkSession.builder.appName(app_name).master(\"local[*]\").getOrCreate()"
   ]
  },
  {
   "cell_type": "code",
   "execution_count": 3,
   "metadata": {
    "id": "RLBcZalfzjC5"
   },
   "outputs": [],
   "source": [
    "pro_lang = sc.read.csv(\"programming-languages.csv\")\n",
    "posts_sample = sc.read.format(\"xml\").options(rowTag=\"row\").load('posts_sample.xml')"
   ]
  },
  {
   "cell_type": "markdown",
   "metadata": {
    "id": "F_yliVlQ7FVO"
   },
   "source": [
    "Создаем список имен ЯП"
   ]
  },
  {
   "cell_type": "code",
   "execution_count": 4,
   "metadata": {},
   "outputs": [
    {
     "data": {
      "text/plain": [
       "['name',\n",
       " 'A# .NET',\n",
       " 'A# (Axiom)',\n",
       " 'A-0 System',\n",
       " 'A+',\n",
       " 'A++',\n",
       " 'ABAP',\n",
       " 'ABC',\n",
       " 'ABC ALGOL',\n",
       " 'ABSET']"
      ]
     },
     "execution_count": 4,
     "metadata": {},
     "output_type": "execute_result"
    }
   ],
   "source": [
    "pro_lang_list = [str(x[0]) for x in pro_lang.collect()]\n",
    "\n",
    "pro_lang_list[:10]"
   ]
  },
  {
   "cell_type": "markdown",
   "metadata": {
    "id": "cgM_a_p18W5n"
   },
   "source": [
    "Функция language_detect() производит перевод текста в нижний регистр и поиск названия ЯП в каждой строке, если язык был найден, то создается кортеж, иначе None."
   ]
  },
  {
   "cell_type": "markdown",
   "metadata": {
    "id": "lpDEKmUe8kn0"
   },
   "source": [
    " Функция check_date() для проверки даты"
   ]
  },
  {
   "cell_type": "code",
   "execution_count": 5,
   "metadata": {},
   "outputs": [],
   "source": [
    "def language_detect(x):\n",
    "  lang_tag = None\n",
    "  for language in pro_lang_list:\n",
    "    if \"<\" + language.lower() + \">\" in x._Tags.lower():\n",
    "      lang_tag = language\n",
    "      break\n",
    "  if lang_tag is None:\n",
    "    return None\n",
    "  return (x._Id, lang_tag)"
   ]
  },
  {
   "cell_type": "code",
   "execution_count": 6,
   "metadata": {},
   "outputs": [],
   "source": [
    "def check_date(x, year):\n",
    "  start = datetime(year=year, month=1, day=1)\n",
    "  end = datetime(year=year, month=12, day=31)\n",
    "  CreationDate = x._CreationDate\n",
    "  return CreationDate >= start and CreationDate <= end"
   ]
  },
  {
   "cell_type": "markdown",
   "metadata": {
    "id": "EvPrSYcN8qv5"
   },
   "source": [
    "\n",
    "1.   Убираем пустые значения и оставляет диапазон с 2010 по 2020 год\n",
    "2.   Находим ЯП в каждой строке и убираем пустые значения, если не был найден\n",
    "1.   Считаем сколько раз упоминался каждый язык программирования в каждом годе и сортируем по количеству повторений\n",
    "2.   Сортировка по количеству упоминаний"
   ]
  },
  {
   "cell_type": "code",
   "execution_count": 9,
   "metadata": {},
   "outputs": [
    {
     "name": "stdout",
     "output_type": "stream",
     "text": [
      "+-----------+------------------------+\n",
      "|         ЯП|Кол-во_упоминаний_в_2010|\n",
      "+-----------+------------------------+\n",
      "|       Java|                      52|\n",
      "| JavaScript|                      44|\n",
      "|        PHP|                      42|\n",
      "|     Python|                      25|\n",
      "|Objective-C|                      22|\n",
      "|          C|                      20|\n",
      "|       Ruby|                      11|\n",
      "|     Delphi|                       7|\n",
      "|          R|                       3|\n",
      "|       Bash|                       3|\n",
      "+-----------+------------------------+\n",
      "\n",
      "+-----------+------------------------+\n",
      "|         ЯП|Кол-во_упоминаний_в_2011|\n",
      "+-----------+------------------------+\n",
      "|        PHP|                      97|\n",
      "|       Java|                      92|\n",
      "| JavaScript|                      82|\n",
      "|     Python|                      35|\n",
      "|Objective-C|                      33|\n",
      "|          C|                      24|\n",
      "|       Ruby|                      17|\n",
      "|     Delphi|                       8|\n",
      "|       Perl|                       8|\n",
      "|       Bash|                       7|\n",
      "+-----------+------------------------+\n",
      "\n",
      "+-----------+------------------------+\n",
      "|         ЯП|Кол-во_упоминаний_в_2012|\n",
      "+-----------+------------------------+\n",
      "|        PHP|                     136|\n",
      "| JavaScript|                     129|\n",
      "|       Java|                     124|\n",
      "|     Python|                      65|\n",
      "|Objective-C|                      45|\n",
      "|          C|                      27|\n",
      "|       Ruby|                      25|\n",
      "|       Bash|                       9|\n",
      "|          R|                       9|\n",
      "|     MATLAB|                       6|\n",
      "+-----------+------------------------+\n",
      "\n",
      "+-----------+------------------------+\n",
      "|         ЯП|Кол-во_упоминаний_в_2013|\n",
      "+-----------+------------------------+\n",
      "| JavaScript|                     196|\n",
      "|       Java|                     191|\n",
      "|        PHP|                     173|\n",
      "|     Python|                      87|\n",
      "|Objective-C|                      40|\n",
      "|          C|                      36|\n",
      "|       Ruby|                      30|\n",
      "|          R|                      25|\n",
      "|       Bash|                      11|\n",
      "|      Scala|                      10|\n",
      "+-----------+------------------------+\n",
      "\n",
      "+-----------+------------------------+\n",
      "|         ЯП|Кол-во_упоминаний_в_2014|\n",
      "+-----------+------------------------+\n",
      "| JavaScript|                     235|\n",
      "|       Java|                     228|\n",
      "|        PHP|                     154|\n",
      "|     Python|                     103|\n",
      "|          C|                      52|\n",
      "|Objective-C|                      49|\n",
      "|          R|                      28|\n",
      "|       Ruby|                      20|\n",
      "|     MATLAB|                      16|\n",
      "|       Bash|                      13|\n",
      "+-----------+------------------------+\n",
      "\n",
      "+-----------+------------------------+\n",
      "|         ЯП|Кол-во_упоминаний_в_2015|\n",
      "+-----------+------------------------+\n",
      "| JavaScript|                     270|\n",
      "|       Java|                     208|\n",
      "|        PHP|                     147|\n",
      "|     Python|                     119|\n",
      "|          R|                      43|\n",
      "|          C|                      38|\n",
      "|Objective-C|                      30|\n",
      "|       Ruby|                      20|\n",
      "|     MATLAB|                      16|\n",
      "|      Scala|                      13|\n",
      "+-----------+------------------------+\n",
      "\n",
      "+----------+------------------------+\n",
      "|        ЯП|Кол-во_упоминаний_в_2016|\n",
      "+----------+------------------------+\n",
      "|JavaScript|                     271|\n",
      "|      Java|                     178|\n",
      "|    Python|                     140|\n",
      "|       PHP|                     126|\n",
      "|         R|                      50|\n",
      "|         C|                      32|\n",
      "|      Ruby|                      21|\n",
      "|      Bash|                      16|\n",
      "|     Scala|                      16|\n",
      "|    MATLAB|                      15|\n",
      "+----------+------------------------+\n",
      "\n",
      "+-----------+------------------------+\n",
      "|         ЯП|Кол-во_упоминаний_в_2017|\n",
      "+-----------+------------------------+\n",
      "| JavaScript|                     244|\n",
      "|       Java|                     204|\n",
      "|     Python|                     185|\n",
      "|        PHP|                     122|\n",
      "|          R|                      53|\n",
      "|          C|                      24|\n",
      "|Objective-C|                      19|\n",
      "|       Ruby|                      16|\n",
      "| TypeScript|                      14|\n",
      "| PowerShell|                      14|\n",
      "+-----------+------------------------+\n",
      "\n",
      "+----------+------------------------+\n",
      "|        ЯП|Кол-во_упоминаний_в_2018|\n",
      "+----------+------------------------+\n",
      "|    Python|                     214|\n",
      "|JavaScript|                     194|\n",
      "|      Java|                     145|\n",
      "|       PHP|                      99|\n",
      "|         R|                      63|\n",
      "|         C|                      24|\n",
      "|     Scala|                      22|\n",
      "|TypeScript|                      21|\n",
      "|PowerShell|                      13|\n",
      "|      Bash|                      12|\n",
      "+----------+------------------------+\n",
      "\n",
      "+----------+------------------------+\n",
      "|        ЯП|Кол-во_упоминаний_в_2019|\n",
      "+----------+------------------------+\n",
      "|    Python|                     162|\n",
      "|JavaScript|                     131|\n",
      "|      Java|                      95|\n",
      "|       PHP|                      59|\n",
      "|         R|                      36|\n",
      "|         C|                      14|\n",
      "|        Go|                       9|\n",
      "|    MATLAB|                       9|\n",
      "|      Dart|                       9|\n",
      "|      Bash|                       8|\n",
      "+----------+------------------------+\n",
      "\n"
     ]
    }
   ],
   "source": [
    "result = {}\n",
    "\n",
    "for year in range(2010, 2020):\n",
    "  result[year] = posts_sample.rdd\\\n",
    "      .filter(lambda x: x._Tags is not None and check_date(x, year))\\\n",
    "      .map(language_detect)\\\n",
    "      .filter(lambda x: x is not None)\\\n",
    "      .keyBy(lambda x: x[1])\\\n",
    "      .aggregateByKey(\n",
    "          0,\n",
    "          lambda x, y: x + 1,\n",
    "          lambda x1, x2: x1 + x2,\n",
    "      )\\\n",
    "      .sortBy(lambda x: x[1], ascending=False)\\\n",
    "      .toDF()\n",
    "\n",
    "  result[year] = result[year].select(col(\"_1\").alias(\"ЯП\"), \n",
    "                                                 col(\"_2\").alias(f\"Кол-во_упоминаний_в_{year}\")).limit(10)\n",
    "  result[year].show()"
   ]
  },
  {
   "cell_type": "code",
   "execution_count": 10,
   "metadata": {},
   "outputs": [],
   "source": [
    "for i in result.keys():\n",
    "    result[i].write.format(\"parquet\").save(f\"year_{i}\")"
   ]
  },
  {
   "cell_type": "code",
   "execution_count": null,
   "metadata": {},
   "outputs": [],
   "source": []
  }
 ],
 "metadata": {
  "colab": {
   "provenance": []
  },
  "kernelspec": {
   "display_name": "Python 3",
   "language": "python",
   "name": "python3"
  },
  "language_info": {
   "codemirror_mode": {
    "name": "ipython",
    "version": 3
   },
   "file_extension": ".py",
   "mimetype": "text/x-python",
   "name": "python",
   "nbconvert_exporter": "python",
   "pygments_lexer": "ipython3",
   "version": "3.6.9"
  }
 },
 "nbformat": 4,
 "nbformat_minor": 1
}
