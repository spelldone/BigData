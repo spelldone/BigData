{
 "cells": [
  {
   "cell_type": "markdown",
   "id": "8I9shaIH_OkB",
   "metadata": {
    "id": "8I9shaIH_OkB"
   },
   "source": [
    "#Новичков Егор ЛР1"
   ]
  },
  {
   "cell_type": "code",
   "execution_count": 1,
   "id": "h3vbE1eq_hgc",
   "metadata": {
    "id": "h3vbE1eq_hgc"
   },
   "outputs": [
    {
     "name": "stderr",
     "output_type": "stream",
     "text": [
      "/usr/local/lib/python3.6/dist-packages/pyspark/context.py:238: FutureWarning: Python 3.6 support is deprecated in Spark 3.2.\n",
      "  FutureWarning\n"
     ]
    }
   ],
   "source": [
    "from pyspark import SparkContext, SparkConf\n",
    "app_name = \"Lab1\"\n",
    "conf = SparkConf().setAppName(app_name).setMaster('local[1]')\n",
    "sc = SparkContext(conf=conf)"
   ]
  },
  {
   "cell_type": "markdown",
   "id": "UrQ0CvzNAM1V",
   "metadata": {
    "id": "UrQ0CvzNAM1V"
   },
   "source": [
    "Импортим данные в РФС и проверяем"
   ]
  },
  {
   "cell_type": "code",
   "execution_count": 2,
   "id": "L6j_kIcN_vqo",
   "metadata": {
    "id": "L6j_kIcN_vqo"
   },
   "outputs": [
    {
     "name": "stdout",
     "output_type": "stream",
     "text": [
      "Found 1 items\r\n",
      "drwxr-xr-x   - root root          0 2022-12-05 17:02 /data/data\r\n"
     ]
    }
   ],
   "source": [
    "!hadoop fs -put /mnt/data /data\n",
    "\n",
    "\n",
    "!hadoop fs -ls /data"
   ]
  },
  {
   "cell_type": "markdown",
   "id": "jKWtoclcA32B",
   "metadata": {
    "id": "jKWtoclcA32B"
   },
   "source": [
    "Проверим работоспособность"
   ]
  },
  {
   "cell_type": "code",
   "execution_count": 3,
   "id": "6146cfec",
   "metadata": {
    "id": "6146cfec"
   },
   "outputs": [
    {
     "name": "stdout",
     "output_type": "stream",
     "text": [
      "12851\n"
     ]
    }
   ],
   "source": [
    "warandpeace = sc.textFile(\"warandsociety.txt\")\n",
    "print(warandpeace.count())"
   ]
  },
  {
   "cell_type": "markdown",
   "id": "YdXlwU_bB3ku",
   "metadata": {
    "id": "YdXlwU_bB3ku"
   },
   "source": [
    "Проверка на несуществующем файле"
   ]
  },
  {
   "cell_type": "code",
   "execution_count": 4,
   "id": "10dec428",
   "metadata": {
    "id": "10dec428"
   },
   "outputs": [],
   "source": [
    "nilFile = sc.textFile(\"nil\")"
   ]
  },
  {
   "cell_type": "markdown",
   "id": "b-2mpn1vCAHh",
   "metadata": {
    "id": "b-2mpn1vCAHh"
   },
   "source": [
    "Выведем первые элементы"
   ]
  },
  {
   "cell_type": "code",
   "execution_count": 5,
   "id": "da804555",
   "metadata": {
    "id": "da804555",
    "scrolled": true
   },
   "outputs": [
    {
     "data": {
      "text/plain": [
       "['Лев Николаевич Толстой',\n",
       " 'Война и мир. Книга 1',\n",
       " '',\n",
       " 'Война и мир – 1',\n",
       " '',\n",
       " ' ',\n",
       " ' http://www.lib.ru',\n",
       " '',\n",
       " 'Аннотация ',\n",
       " '',\n",
       " 'Роман Льва Толстого «Война и мир» лежит в основании величественного здания русской классической литературы. С непревзойденным мастерством Толстой воссоздал великую духом Россию – образы этой «книги на все времена» и сейчас пленяют свежестью чувств и щедростью души, искренностью страстей, силой и чистотой убеждений.',\n",
       " 'В книгу вошли первый и второй тома романа.',\n",
       " '',\n",
       " 'Лев Николаевич Толстой',\n",
       " 'ВОЙНА И МИР',\n",
       " '',\n",
       " 'Том 1',\n",
       " '',\n",
       " 'ЧАСТЬ ПЕРВАЯ',\n",
       " '',\n",
       " '',\n",
       " 'I',\n",
       " '',\n",
       " \"– Еh bien, mon prince. Genes et Lucques ne sont plus que des apanages, des поместья, de la famille Buonaparte. Non, je vous previens, que si vous ne me dites pas, que nous avons la guerre, si vous vous permettez encore de pallier toutes les infamies, toutes les atrocites de cet Antichrist (ma parole, j'y crois) – je ne vous connais plus, vous n'etes plus mon ami, vous n'etes plus мой верный раб, comme vous dites. [Ну, что, князь, Генуа и Лукка стали не больше, как поместьями фамилии Бонапарте. Нет, я вас предупреждаю, если вы мне не скажете, что у нас война, если вы еще позволите себе защищать все гадости, все ужасы этого Антихриста (право, я верю, что он Антихрист) – я вас больше не знаю, вы уж не друг мой, вы уж не мой верный раб, как вы говорите.] Ну, здравствуйте, здравствуйте. Je vois que je vous fais peur, [Я вижу, что я вас пугаю,] садитесь и рассказывайте.\",\n",
       " 'Так говорила в июле 1805 года известная Анна Павловна Шерер, фрейлина и приближенная императрицы Марии Феодоровны, встречая важного и чиновного князя Василия, первого приехавшего на ее вечер. Анна Павловна кашляла несколько дней, у нее был грипп , как она говорила (грипп  был тогда новое слово, употреблявшееся только редкими). В записочках, разосланных утром с красным лакеем, было написано без различия во всех:']"
      ]
     },
     "execution_count": 5,
     "metadata": {},
     "output_type": "execute_result"
    }
   ],
   "source": [
    "warandpeace.take(25) "
   ]
  },
  {
   "cell_type": "markdown",
   "id": "PlLzgH5UCI15",
   "metadata": {
    "id": "PlLzgH5UCI15"
   },
   "source": [
    "Выведем первую строчку со словом \"война\""
   ]
  },
  {
   "cell_type": "code",
   "execution_count": 6,
   "id": "0fa4de07",
   "metadata": {
    "id": "0fa4de07"
   },
   "outputs": [
    {
     "data": {
      "text/plain": [
       "'– Нет, не был, но вот что мне пришло в голову, и я хотел вам сказать. Теперь война против Наполеона. Ежели б это была война за свободу, я бы понял, я бы первый поступил в военную службу; но помогать Англии и Австрии против величайшего человека в мире… это нехорошо…'"
      ]
     },
     "execution_count": 6,
     "metadata": {},
     "output_type": "execute_result"
    }
   ],
   "source": [
    "linesWithWar = warandpeace.filter(lambda x: \"война \" in x) \n",
    "linesWithWar.first()"
   ]
  },
  {
   "cell_type": "markdown",
   "id": "-Nb9bVMnCj_5",
   "metadata": {
    "id": "-Nb9bVMnCj_5"
   },
   "source": [
    "Замер времени"
   ]
  },
  {
   "cell_type": "code",
   "execution_count": 7,
   "id": "ad4c8fc0",
   "metadata": {
    "id": "ad4c8fc0"
   },
   "outputs": [],
   "source": [
    "def time(f):  \n",
    "    import time\n",
    "    t = time.process_time()\n",
    "    f()\n",
    "    print(f\"Elapsed time: {int((time.process_time() - t)*1e9)} ns\")"
   ]
  },
  {
   "cell_type": "code",
   "execution_count": 9,
   "id": "93fbf2b3",
   "metadata": {
    "id": "93fbf2b3"
   },
   "outputs": [
    {
     "name": "stdout",
     "output_type": "stream",
     "text": [
      "Elapsed time: 8948200 ns\n",
      "Elapsed time: 9669000 ns\n"
     ]
    }
   ],
   "source": [
    "linesWithWar.cache()\n",
    "time(lambda: linesWithWar.count())\n",
    "time(lambda: linesWithWar.count())"
   ]
  },
  {
   "cell_type": "markdown",
   "id": "tSzg1DMhCwW8",
   "metadata": {
    "id": "tSzg1DMhCwW8"
   },
   "source": [
    "Найдем гистограмму слов"
   ]
  },
  {
   "cell_type": "code",
   "execution_count": 10,
   "id": "ed17d7c2",
   "metadata": {
    "id": "ed17d7c2"
   },
   "outputs": [],
   "source": [
    "wordCounts = linesWithWar.flatMap(lambda line: line.split(\" \")).map(lambda word: (word, 1)) .reduceByKey(lambda a, b: a + b)"
   ]
  },
  {
   "cell_type": "code",
   "execution_count": 11,
   "id": "be7b16c6",
   "metadata": {
    "id": "be7b16c6",
    "scrolled": true
   },
   "outputs": [],
   "source": [
    "wordCounts.saveAsTextFile(\"warandpeace_histogram.txt\")"
   ]
  },
  {
   "cell_type": "markdown",
   "id": "d82e52cb",
   "metadata": {
    "id": "d82e52cb"
   },
   "source": [
    "## Подготовим методы для чтения данных (из вспомогательной методички)"
   ]
  },
  {
   "cell_type": "code",
   "execution_count": 12,
   "id": "951effa1",
   "metadata": {
    "id": "951effa1"
   },
   "outputs": [],
   "source": [
    "from typing import NamedTuple\n",
    "from datetime import datetime\n",
    "\n",
    "def initStation(stations):\n",
    "    class Station(NamedTuple):\n",
    "        station_id: int\n",
    "        name: str\n",
    "        lat: float\n",
    "        long: float\n",
    "        dockcount: int\n",
    "        landmark: str\n",
    "        installation: str\n",
    "    \n",
    "    for station in stations:\n",
    "        yield Station(\n",
    "            station_id = int(station[0]),\n",
    "            name = station[1],\n",
    "            lat = float(station[2]),\n",
    "            long = float(station[3]),\n",
    "            dockcount = int(station[4]),\n",
    "            landmark = station[5],\n",
    "            installation = datetime.strptime(station[6], '%m/%d/%Y')\n",
    "        )\n",
    "        \n",
    "def initTrip(trips):\n",
    "    class Trip(NamedTuple):\n",
    "        trip_id: int\n",
    "        duration: int\n",
    "        start_date: datetime\n",
    "        start_station_name: str\n",
    "        start_station_id: int\n",
    "        end_date: datetime\n",
    "        end_station_name: str\n",
    "        end_station_id: int\n",
    "        bike_id: int\n",
    "        subscription_type: str\n",
    "        zip_code: str\n",
    "        \n",
    "    for trip in trips:\n",
    "        yield Trip(                             \n",
    "            trip_id = int(trip[0]),\n",
    "            duration = int(trip[1]) if trip[1] != '' else 0,\n",
    "            start_date = datetime.strptime(trip[2], '%m/%d/%Y %H:%M') if trip[2] != '' else None,\n",
    "            start_station_name = trip[3],\n",
    "            start_station_id = int(trip[4]),\n",
    "            end_date = datetime.strptime(trip[5], '%m/%d/%Y %H:%M') if trip[5] != '' else None,\n",
    "            end_station_name = trip[6],\n",
    "            end_station_id = int(trip[7]),\n",
    "            bike_id = int(trip[8]),\n",
    "            subscription_type = trip[9],\n",
    "            zip_code = trip[10]\n",
    "        )"
   ]
  },
  {
   "cell_type": "code",
   "execution_count": 13,
   "id": "3389ecbc",
   "metadata": {
    "id": "3389ecbc"
   },
   "outputs": [],
   "source": [
    "def GetDataFromTable(data): # метод, вовзрающий только данные, без названия столбцов\n",
    "    columns = data.first()\n",
    "    table = data.filter(lambda row: row != columns)\\\n",
    "                .map(lambda row: row.split(\",\"))\n",
    "    return columns, table"
   ]
  },
  {
   "cell_type": "markdown",
   "id": "KOzX6nJaH27i",
   "metadata": {
    "id": "KOzX6nJaH27i"
   },
   "source": [
    "Инициализация данных"
   ]
  },
  {
   "cell_type": "code",
   "execution_count": 16,
   "id": "b7ffe5f4",
   "metadata": {
    "id": "b7ffe5f4"
   },
   "outputs": [],
   "source": [
    "tripData = sc.textFile(\"trips.csv\")\n",
    "stationData = sc.textFile(\"stations.csv\")"
   ]
  },
  {
   "cell_type": "code",
   "execution_count": 17,
   "id": "512aae45",
   "metadata": {
    "id": "512aae45",
    "scrolled": true
   },
   "outputs": [],
   "source": [
    "tripColumns, trips = GetDataFromTable(tripData)\n",
    "stationCoolumns, stations = GetDataFromTable(stationData)"
   ]
  },
  {
   "cell_type": "code",
   "execution_count": 18,
   "id": "105812a8",
   "metadata": {
    "id": "105812a8"
   },
   "outputs": [],
   "source": [
    "tripsObjects = trips.mapPartitions(initTrip)\n",
    "stationObjects = stations.mapPartitions(initStation)"
   ]
  },
  {
   "cell_type": "markdown",
   "id": "FZFmS0HNOwdM",
   "metadata": {
    "id": "FZFmS0HNOwdM"
   },
   "source": [
    "# 1 Найти велосипед с максимальным временем пробега."
   ]
  },
  {
   "cell_type": "code",
   "execution_count": 19,
   "id": "998777a3",
   "metadata": {
    "id": "998777a3"
   },
   "outputs": [
    {
     "name": "stdout",
     "output_type": "stream",
     "text": [
      "535\n"
     ]
    }
   ],
   "source": [
    "#                создаем пары:(id,пробег)               суммируем для каждого байка его пробеги   отсортируем по пробегу и выведем первый элемент\n",
    "bike_with_top_duration = tripsObjects.map(lambda trip: (trip.bike_id, trip.duration)).reduceByKey(lambda a, b: a + b).top(1, key = lambda x: x[1])[0][0]\n",
    "print(bike_with_top_duration)"
   ]
  },
  {
   "cell_type": "markdown",
   "id": "f8fc5a8d",
   "metadata": {
    "id": "f8fc5a8d"
   },
   "source": [
    "# 2 Найти наибольшее геодезическое расстояние между станциями."
   ]
  },
  {
   "cell_type": "code",
   "execution_count": 22,
   "id": "b900398a",
   "metadata": {
    "id": "b900398a"
   },
   "outputs": [
    {
     "data": {
      "text/plain": [
       "[(229914.0, (26, 16))]"
      ]
     },
     "execution_count": 22,
     "metadata": {},
     "output_type": "execute_result"
    }
   ],
   "source": [
    "trips_stations = tripsObjects \\\n",
    ".filter(lambda trip: trip.start_station_id != trip.end_station_id) \\\n",
    ".keyBy(lambda trip: (trip.start_station_id, trip.end_station_id)) \\\n",
    ".mapValues(lambda trip: trip.duration)\n",
    "\n",
    "\n",
    "query = trips_stations \\\n",
    ".aggregateByKey((0.0, 0.0), \\\n",
    "                lambda acc, value: (acc[0] + value, acc[1] + 1), \\\n",
    "                lambda acc1, acc2: (acc1[0] + acc2[0], acc1[1] + acc2[1]),) \\\n",
    ".mapValues(lambda values: values[0] / values[1])\n",
    "\n",
    "query.map(lambda x: x[::-1]).top(1)"
   ]
  },
  {
   "cell_type": "markdown",
   "id": "0360e133",
   "metadata": {
    "id": "0360e133"
   },
   "source": [
    "# 3 Найти путь велосипеда с максимальным временем пробега через станции."
   ]
  },
  {
   "cell_type": "code",
   "execution_count": 23,
   "id": "d061bdab",
   "metadata": {
    "id": "d061bdab"
   },
   "outputs": [
    {
     "name": "stdout",
     "output_type": "stream",
     "text": [
      "('Post at Kearney', 'San Francisco Caltrain (Townsend at 4th)')\n"
     ]
    }
   ],
   "source": [
    "result = tripsObjects.filter(lambda x: x.bike_id == bike_with_top_duration).sortBy(lambda x: x.start_date).map(lambda x: (x.start_station_name, x.end_station_name)).first()\n",
    "print(result)"
   ]
  },
  {
   "cell_type": "markdown",
   "id": "20b711a3",
   "metadata": {
    "id": "20b711a3"
   },
   "source": [
    "# 4 Найти количество велосипедов в системе."
   ]
  },
  {
   "cell_type": "code",
   "execution_count": 24,
   "id": "3d3b680f",
   "metadata": {
    "id": "3d3b680f",
    "scrolled": true
   },
   "outputs": [
    {
     "name": "stdout",
     "output_type": "stream",
     "text": [
      "700\n"
     ]
    }
   ],
   "source": [
    "# оставляем уникальные id\n",
    "result = tripsObjects.map(lambda trip: trip.bike_id).distinct().count()\n",
    "print(result)"
   ]
  },
  {
   "cell_type": "markdown",
   "id": "54d78ffe",
   "metadata": {
    "id": "54d78ffe"
   },
   "source": [
    "# 5 Найти пользователей потративших на поездки более 3 часов."
   ]
  },
  {
   "cell_type": "code",
   "execution_count": 25,
   "id": "4cb68dc8",
   "metadata": {
    "id": "4cb68dc8"
   },
   "outputs": [
    {
     "data": {
      "text/plain": [
       "['58553',\n",
       " '94301',\n",
       " '94039',\n",
       " '94133',\n",
       " '93726',\n",
       " '94123',\n",
       " '4517',\n",
       " '29200',\n",
       " '45322',\n",
       " '94080',\n",
       " '92808',\n",
       " '5024',\n",
       " '89138',\n",
       " '11515',\n",
       " '28277',\n",
       " '34990',\n",
       " '94803',\n",
       " '92663',\n",
       " '94109',\n",
       " '91801']"
      ]
     },
     "execution_count": 25,
     "metadata": {},
     "output_type": "execute_result"
    }
   ],
   "source": [
    "users = tripsObjects.filter(lambda x: x.duration > (10800)).map(lambda x: x.zip_code).filter(lambda x: x != \"\").distinct()\n",
    "\n",
    "users.take(20)"
   ]
  },
  {
   "cell_type": "code",
   "execution_count": null,
   "id": "bd93b9ad",
   "metadata": {},
   "outputs": [],
   "source": []
  }
 ],
 "metadata": {
  "colab": {
   "provenance": []
  },
  "kernelspec": {
   "display_name": "Python 3",
   "language": "python",
   "name": "python3"
  },
  "language_info": {
   "codemirror_mode": {
    "name": "ipython",
    "version": 3
   },
   "file_extension": ".py",
   "mimetype": "text/x-python",
   "name": "python",
   "nbconvert_exporter": "python",
   "pygments_lexer": "ipython3",
   "version": "3.6.9"
  }
 },
 "nbformat": 4,
 "nbformat_minor": 5
}
